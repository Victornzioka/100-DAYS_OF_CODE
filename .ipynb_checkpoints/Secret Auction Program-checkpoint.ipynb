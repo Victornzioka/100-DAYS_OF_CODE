{
 "cells": [
  {
   "cell_type": "markdown",
   "id": "212b74c1",
   "metadata": {},
   "source": [
    "# My solution"
   ]
  },
  {
   "cell_type": "code",
   "execution_count": 2,
   "id": "87fa9647",
   "metadata": {},
   "outputs": [
    {
     "name": "stdout",
     "output_type": "stream",
     "text": [
      "['Java']\n"
     ]
    }
   ],
   "source": [
    "print('Welcome to the secret auction program')\n",
    "\n",
    "bids = {}\n",
    "state = True\n",
    "bid_value = 0\n",
    "\n",
    "while state:\n",
    "  name = input('Whats your name? ')\n",
    "  bid = int(input('Whats your bid? '))\n",
    "\n",
    "  bids[name] = bid\n",
    "\n",
    "  bidder = input(\"Is there another bidder? Type yes or no: \")\n",
    "\n",
    "  if bidder == 'no':\n",
    "    state = False\n",
    "\n",
    "\n",
    "for value in bids.values():\n",
    "  if value > bid_value:\n",
    "    bid_value = value\n",
    "\n",
    "highest_bidder = list(filter(lambda x: bids[x] == bid_value, bids))[0]\n",
    "print(f'The highest bidder is {highest_bidder} with a bid of {bid_value}')"
   ]
  },
  {
   "cell_type": "markdown",
   "id": "f53bce94",
   "metadata": {},
   "source": [
    "# angelas solution"
   ]
  },
  {
   "cell_type": "code",
   "execution_count": null,
   "id": "9b001de1",
   "metadata": {},
   "outputs": [],
   "source": [
    "bids = {}\n",
    "bidding_finished = False\n",
    "\n",
    "def find_highest_bidder(bidding_record):\n",
    "  highest_bid = 0\n",
    "  winner = \"\"\n",
    "  # bidding_record = {\"Angela\": 123, \"James\": 321}\n",
    "  for bidder in bidding_record:\n",
    "    bid_amount = bidding_record[bidder]\n",
    "    if bid_amount > highest_bid: \n",
    "      highest_bid = bid_amount\n",
    "      winner = bidder\n",
    "  print(f\"The winner is {winner} with a bid of ${highest_bid}\")\n",
    "\n",
    "while not bidding_finished:\n",
    "  name = input(\"What is your name?: \")\n",
    "  price = int(input(\"What is your bid?: $\"))\n",
    "  bids[name] = price\n",
    "  should_continue = input(\"Are there any other bidders? Type 'yes or 'no'.\\n\")\n",
    "  if should_continue == \"no\":\n",
    "    bidding_finished = True\n",
    "    find_highest_bidder(bids)"
   ]
  }
 ],
 "metadata": {
  "kernelspec": {
   "display_name": "Python 3 (ipykernel)",
   "language": "python",
   "name": "python3"
  },
  "language_info": {
   "codemirror_mode": {
    "name": "ipython",
    "version": 3
   },
   "file_extension": ".py",
   "mimetype": "text/x-python",
   "name": "python",
   "nbconvert_exporter": "python",
   "pygments_lexer": "ipython3",
   "version": "3.9.12"
  }
 },
 "nbformat": 4,
 "nbformat_minor": 5
}
