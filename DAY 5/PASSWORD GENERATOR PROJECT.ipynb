{
 "cells": [
  {
   "cell_type": "code",
   "execution_count": null,
   "id": "c0446d18",
   "metadata": {},
   "outputs": [],
   "source": [
    "#Password Generator Project\n",
    "import random\n",
    "letters = ['a', 'b', 'c', 'd', 'e', 'f', 'g', 'h', 'i', 'j', 'k', 'l', 'm', 'n', 'o', 'p', 'q', 'r', 's', 't', 'u', 'v', 'w', 'x', 'y', 'z', 'A', 'B', 'C', 'D', 'E', 'F', 'G', 'H', 'I', 'J', 'K', 'L', 'M', 'N', 'O', 'P', 'Q', 'R', 'S', 'T', 'U', 'V', 'W', 'X', 'Y', 'Z']\n",
    "numbers = ['0', '1', '2', '3', '4', '5', '6', '7', '8', '9']\n",
    "symbols = ['!', '#', '$', '%', '&', '(', ')', '*', '+']\n",
    "\n",
    "print(\"Welcome to the PyPassword Generator!\")\n",
    "nr_letters= int(input(\"How many letters would you like in your password?\\n\")) \n",
    "nr_symbols = int(input(f\"How many symbols would you like?\\n\"))\n",
    "nr_numbers = int(input(f\"How many numbers would you like?\\n\"))\n",
    "\n",
    "#Eazy Level - Order not randomised:\n",
    "#e.g. 4 letter, 2 symbol, 2 number = JduE&!91\n",
    "no_letters = []\n",
    "for i in range(0, nr_letters):\n",
    "  random_letter= random.choice(letters)\n",
    "  no_letters.append(random_letter)\n",
    "\n",
    "for i in range(0, nr_symbols):\n",
    "  random_symbol= random.choice(symbols)\n",
    "  no_letters.append(random_symbol)\n",
    "\n",
    "for i in range(0, nr_numbers):\n",
    "  random_number= random.choice(numbers)\n",
    "  no_letters.append(random_number)\n",
    "\n",
    "password = \"\"\n",
    "for i in no_letters:\n",
    "  password = password + i\n",
    "  \n",
    "print(f\"Here is your password: {password}\\n\\n\")\n",
    "\n",
    "#Hard Level - Order of characters randomised:\n",
    "#e.g. 4 letter, 2 symbol, 2 number = g^2jk8&\n",
    "random_password = \"\"\n",
    "for i in password:\n",
    "  random_password += random.choice(password)\n",
    "\n",
    "print(\"The hard level?\")\n",
    "print(f\"Here is your password: {random_password}\")"
   ]
  }
 ],
 "metadata": {
  "kernelspec": {
   "display_name": "Python 3 (ipykernel)",
   "language": "python",
   "name": "python3"
  },
  "language_info": {
   "codemirror_mode": {
    "name": "ipython",
    "version": 3
   },
   "file_extension": ".py",
   "mimetype": "text/x-python",
   "name": "python",
   "nbconvert_exporter": "python",
   "pygments_lexer": "ipython3",
   "version": "3.9.12"
  }
 },
 "nbformat": 4,
 "nbformat_minor": 5
}
