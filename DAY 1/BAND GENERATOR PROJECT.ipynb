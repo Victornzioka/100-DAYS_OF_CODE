{
 "cells": [
  {
   "cell_type": "code",
   "execution_count": null,
   "id": "d9331f42",
   "metadata": {},
   "outputs": [],
   "source": [
    "#1. Create a greeting for your program.\n",
    "print(\"Welcome to the Band Name Generator\")\n",
    "#2. Ask the user for the city that they grew up in.\n",
    "city = input(\"What's name of the city you grew up in?\\n\")\n",
    "#3. Ask the user for the name of a pet.\n",
    "pet = input(\"What's your pet's name?\\n\")\n",
    "#4. Combine the name of their city and pet and show them their band name.\n",
    "print(\"Your Band Name could be \"+city+ \" \"+ pet)"
   ]
  }
 ],
 "metadata": {
  "kernelspec": {
   "display_name": "Python 3 (ipykernel)",
   "language": "python",
   "name": "python3"
  },
  "language_info": {
   "codemirror_mode": {
    "name": "ipython",
    "version": 3
   },
   "file_extension": ".py",
   "mimetype": "text/x-python",
   "name": "python",
   "nbconvert_exporter": "python",
   "pygments_lexer": "ipython3",
   "version": "3.9.12"
  }
 },
 "nbformat": 4,
 "nbformat_minor": 5
}
