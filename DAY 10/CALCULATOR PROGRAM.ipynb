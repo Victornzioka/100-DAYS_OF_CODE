{
 "cells": [
  {
   "cell_type": "code",
   "execution_count": null,
   "id": "f0ee6e6f",
   "metadata": {},
   "outputs": [
    {
     "name": "stdout",
     "output_type": "stream",
     "text": [
      "Enter the first number: 21\n",
      "+\n",
      "*\n",
      "/\n",
      "-\n",
      "choose one of the above operations: /\n",
      "Enter the second number: 7\n",
      "21.0 / 7.0 = 3.0\n",
      "would you like to perform another calculation? Type 'y' or 'n': n\n"
     ]
    }
   ],
   "source": [
    "def add(num1, num2):\n",
    "  return num1 + num2\n",
    "  \n",
    "def product(num1, num2):\n",
    "  return num1 * num2\n",
    "\n",
    "def division(num1, num2):\n",
    "  return num1 / num2\n",
    "\n",
    "def subtract(num1, num2):\n",
    "  return num1 - num2\n",
    "\n",
    "operations = {\n",
    "  \"+\": add,\n",
    "  \"*\": product,\n",
    "  \"/\": division,\n",
    "  \"-\": subtract\n",
    "}\n",
    "\n",
    "def calculator():\n",
    "  num1 = float(input(\"Enter the first number: \"))\n",
    "\n",
    "  for i in operations:\n",
    "    print(i)\n",
    "  \n",
    "  operation = input(\"choose one of the above operations: \")\n",
    "  more_calculations = True\n",
    "  while more_calculations:\n",
    "    num2 = float(input(\"Enter the second number: \"))\n",
    "    \n",
    "    choice_operation = operations[operation]\n",
    "    \n",
    "    answer = choice_operation(num1, num2)\n",
    "    print(f\"{num1} {operation} {num2} = {answer}\")\n",
    "  \n",
    "    continue_calc = input(\"would you like to perform another calculation? Type 'y' or 'n': \").lower()\n",
    "    if continue_calc == 'n':\n",
    "      more_calculations = False\n",
    "      calculator() recursion - #having a function calling itself\n",
    "      \n",
    "      \n",
    "    if continue_calc == 'y':\n",
    "      num1 = answer\n",
    "      operation = input(\"choose one of the above operations: \")\n",
    "    \n",
    "    \n",
    "calculator()"
   ]
  },
  {
   "cell_type": "code",
   "execution_count": null,
   "id": "7c690859",
   "metadata": {},
   "outputs": [],
   "source": []
  }
 ],
 "metadata": {
  "kernelspec": {
   "display_name": "Python 3 (ipykernel)",
   "language": "python",
   "name": "python3"
  },
  "language_info": {
   "codemirror_mode": {
    "name": "ipython",
    "version": 3
   },
   "file_extension": ".py",
   "mimetype": "text/x-python",
   "name": "python",
   "nbconvert_exporter": "python",
   "pygments_lexer": "ipython3",
   "version": "3.9.12"
  }
 },
 "nbformat": 4,
 "nbformat_minor": 5
}
