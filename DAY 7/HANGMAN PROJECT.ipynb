{
 "cells": [
  {
   "cell_type": "code",
   "execution_count": null,
   "id": "f53d0aee",
   "metadata": {},
   "outputs": [],
   "source": [
    "import random\n",
    "from hangman_art import stages, logo\n",
    "from hangman_words import word_list\n",
    "\n",
    "print(logo)\n",
    "game_is_finished = False\n",
    "lives = len(stages) - 1\n",
    "\n",
    "chosen_word = random.choice(word_list)\n",
    "word_length = len(chosen_word)\n",
    "\n",
    "display = []\n",
    "for i in range(word_length):\n",
    "    display.append(\"_\")\n",
    "\n",
    "while not game_is_finished:\n",
    "    guess = input(\"Guess a letter: \").lower()\n",
    "\n",
    "\n",
    "    if guess in display:\n",
    "        print(f\"You've already guessed {guess}\")\n",
    "\n",
    "    for position in range(word_length):\n",
    "        letter = chosen_word[position]\n",
    "        if letter == guess:\n",
    "            display[position] = letter\n",
    "    print(f\"{' '.join(display)}\")\n",
    "\n",
    "    if guess not in chosen_word:\n",
    "        print(f\"You guessed {guess}, that's not in the word. You lose a life.\")\n",
    "        lives -= 1\n",
    "        if lives == 0:\n",
    "            game_is_finished = True\n",
    "            print(\"You lose.\")\n",
    "            print(f\"\\nIt was a nice trial, the word is {chosen_word}\")\n",
    "    \n",
    "    if not \"_\" in display:\n",
    "        game_is_finished = True\n",
    "        print(\"You win.\")\n",
    "\n",
    "    print(stages[lives])"
   ]
  }
 ],
 "metadata": {
  "kernelspec": {
   "display_name": "Python 3 (ipykernel)",
   "language": "python",
   "name": "python3"
  },
  "language_info": {
   "codemirror_mode": {
    "name": "ipython",
    "version": 3
   },
   "file_extension": ".py",
   "mimetype": "text/x-python",
   "name": "python",
   "nbconvert_exporter": "python",
   "pygments_lexer": "ipython3",
   "version": "3.9.12"
  }
 },
 "nbformat": 4,
 "nbformat_minor": 5
}
