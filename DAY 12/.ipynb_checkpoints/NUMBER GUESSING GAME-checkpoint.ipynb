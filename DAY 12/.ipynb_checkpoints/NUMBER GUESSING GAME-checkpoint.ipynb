{
 "cells": [
  {
   "cell_type": "markdown",
   "id": "eb93aa13",
   "metadata": {},
   "source": [
    "# My code"
   ]
  },
  {
   "cell_type": "code",
   "execution_count": null,
   "id": "e1b7843a",
   "metadata": {
    "scrolled": true
   },
   "outputs": [
    {
     "name": "stdout",
     "output_type": "stream",
     "text": [
      "Welcome to the number guessing game\n"
     ]
    }
   ],
   "source": [
    "import random\n",
    "\n",
    "print(\"Welcome to the number guessing game\")\n",
    "difficulty_level = input(\"Choose a difficulty level. 'easy' or 'hard': \").lower()\n",
    "if difficulty_level == 'easy':\n",
    "  print('You have 10 attempts remaining to guess the number')\n",
    "if difficulty_level == 'hard':\n",
    "  print('You have 5 attempts remaining to guess the number')\n",
    "\n",
    "random_number = random.randint(1, 100)\n",
    "\n",
    "more_guesses = True\n",
    "guess_no = 10\n",
    "guess_no1 = 5\n",
    "while more_guesses:\n",
    "  guess = int(input(\"I am thinking of a number between 1 and 100. Please take a guess: \"))\n",
    "  if guess < random_number:\n",
    "    print('Guess is too low')\n",
    "  elif guess == random_number:\n",
    "    print(f\"You got it. The number is {random_number}\")\n",
    "    more_guesses = False\n",
    "  else:\n",
    "    print('Guess is too high')\n",
    "  if difficulty_level == 'easy':\n",
    "    guess_no = guess_no - 1\n",
    "\n",
    "    if guess_no < 1:\n",
    "      more_guesses = False\n",
    "      print(\"You have run out of chances\")\n",
    "    else:\n",
    "      print(f\"You have {guess_no} remaining chances\")\n",
    "  if difficulty_level == 'hard':\n",
    "    guess_no1 = guess_no1 - 1\n",
    "\n",
    "    if guess_no1 < 1:\n",
    "      more_guesses = False\n",
    "      print(\"You have run out of chances\")\n",
    "    else:\n",
    "      print(f\"You have {guess_no1} remaining chances\")\n",
    "  \n",
    "\n",
    "\n",
    "  "
   ]
  },
  {
   "cell_type": "markdown",
   "id": "166dc1a9",
   "metadata": {},
   "source": [
    "# Angelas code"
   ]
  },
  {
   "cell_type": "code",
   "execution_count": null,
   "id": "1ff15e03",
   "metadata": {},
   "outputs": [],
   "source": [
    "from random import randint\n",
    "\n",
    "EASY_LEVEL_TURNS = 10\n",
    "HARD_LEVEL_TURNS = 5\n",
    "\n",
    "#Function to check user's guess against actual answer.\n",
    "def check_answer(guess, answer, turns):\n",
    "  \"\"\"checks answer against guess. Returns the number of turns remaining.\"\"\"\n",
    "  if guess > answer:\n",
    "    print(\"Too high.\")\n",
    "    return turns - 1\n",
    "  elif guess < answer:\n",
    "    print(\"Too low.\")\n",
    "    return turns - 1\n",
    "  else:\n",
    "    print(f\"You got it! The answer was {answer}.\")\n",
    "\n",
    "#Make function to set difficulty.\n",
    "def set_difficulty():\n",
    "  level = input(\"Choose a difficulty. Type 'easy' or 'hard': \")\n",
    "  if level == \"easy\":\n",
    "    return EASY_LEVEL_TURNS\n",
    "  else:\n",
    "    return HARD_LEVEL_TURNS\n",
    "\n",
    "def game():\n",
    "  #Choosing a random number between 1 and 100.\n",
    "  print(\"Welcome to the Number Guessing Game!\")\n",
    "  print(\"I'm thinking of a number between 1 and 100.\")\n",
    "  answer = randint(1, 100)\n",
    "  print(f\"Pssst, the correct answer is {answer}\") \n",
    "\n",
    "  turns = set_difficulty()\n",
    "  #Repeat the guessing functionality if they get it wrong.\n",
    "  guess = 0\n",
    "  while guess != answer:\n",
    "    print(f\"You have {turns} attempts remaining to guess the number.\")\n",
    "\n",
    "    #Let the user guess a number.\n",
    "    guess = int(input(\"Make a guess: \"))\n",
    "\n",
    "    #Track the number of turns and reduce by 1 if they get it wrong.\n",
    "    turns = check_answer(guess, answer, turns)\n",
    "    if turns == 0:\n",
    "      print(\"You've run out of guesses, you lose.\")\n",
    "      return\n",
    "    elif guess != answer:\n",
    "      print(\"Guess again.\")\n",
    "\n",
    "\n",
    "game()\n"
   ]
  }
 ],
 "metadata": {
  "kernelspec": {
   "display_name": "Python 3 (ipykernel)",
   "language": "python",
   "name": "python3"
  },
  "language_info": {
   "codemirror_mode": {
    "name": "ipython",
    "version": 3
   },
   "file_extension": ".py",
   "mimetype": "text/x-python",
   "name": "python",
   "nbconvert_exporter": "python",
   "pygments_lexer": "ipython3",
   "version": "3.9.12"
  }
 },
 "nbformat": 4,
 "nbformat_minor": 5
}
