{
 "cells": [
  {
   "cell_type": "code",
   "execution_count": null,
   "id": "54156ca5",
   "metadata": {},
   "outputs": [],
   "source": [
    "import random\n",
    "\n",
    "number = random.randint(0,1)\n",
    "print(number)\n",
    "\n",
    "if number == 1:\n",
    "  print(\"The computer chose the head\")\n",
    "else:\n",
    "  print(\"The computer chose the tail\")"
   ]
  }
 ],
 "metadata": {
  "kernelspec": {
   "display_name": "Python 3 (ipykernel)",
   "language": "python",
   "name": "python3"
  },
  "language_info": {
   "codemirror_mode": {
    "name": "ipython",
    "version": 3
   },
   "file_extension": ".py",
   "mimetype": "text/x-python",
   "name": "python",
   "nbconvert_exporter": "python",
   "pygments_lexer": "ipython3",
   "version": "3.9.12"
  }
 },
 "nbformat": 4,
 "nbformat_minor": 5
}
