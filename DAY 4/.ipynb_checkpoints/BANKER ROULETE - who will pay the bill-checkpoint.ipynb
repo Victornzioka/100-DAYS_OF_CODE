{
 "cells": [
  {
   "cell_type": "code",
   "execution_count": null,
   "id": "6a4c4f0c",
   "metadata": {},
   "outputs": [],
   "source": [
    "# Split string method\n",
    "names_string = input(\"Give me everybody's names, separated by a comma. \")\n",
    "names = names_string.split(\", \")\n",
    "# 🚨 Don't change the code above 👆\n",
    "\n",
    "#Write your code below this line 👇\n",
    "\n",
    "list_len = len(names)\n",
    "\n",
    "import random\n",
    "name_index = random.randint(0, list_len-1)\n",
    "\n",
    "name = names[name_index]\n",
    "\n",
    "print(f\"{name} is going to pay the bill today.\")"
   ]
  },
  {
   "cell_type": "code",
   "execution_count": null,
   "id": "28ddd443",
   "metadata": {},
   "outputs": [],
   "source": []
  }
 ],
 "metadata": {
  "kernelspec": {
   "display_name": "Python 3 (ipykernel)",
   "language": "python",
   "name": "python3"
  },
  "language_info": {
   "codemirror_mode": {
    "name": "ipython",
    "version": 3
   },
   "file_extension": ".py",
   "mimetype": "text/x-python",
   "name": "python",
   "nbconvert_exporter": "python",
   "pygments_lexer": "ipython3",
   "version": "3.9.12"
  }
 },
 "nbformat": 4,
 "nbformat_minor": 5
}
