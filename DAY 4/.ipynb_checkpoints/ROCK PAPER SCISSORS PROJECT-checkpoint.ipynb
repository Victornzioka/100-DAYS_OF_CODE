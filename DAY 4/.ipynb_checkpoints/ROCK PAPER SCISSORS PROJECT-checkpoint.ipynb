{
 "cells": [
  {
   "cell_type": "code",
   "execution_count": null,
   "id": "99b5ee43",
   "metadata": {},
   "outputs": [],
   "source": [
    "rock = '''\n",
    "    _______\n",
    "---'   ____)\n",
    "      (_____)\n",
    "      (_____)\n",
    "      (____)\n",
    "---.__(___)\n",
    "'''\n",
    "\n",
    "paper = '''\n",
    "    _______\n",
    "---'   ____)____\n",
    "          ______)\n",
    "          _______)\n",
    "         _______)\n",
    "---.__________)\n",
    "'''\n",
    "\n",
    "scissors = '''\n",
    "    _______\n",
    "---'   ____)____\n",
    "          ______)\n",
    "       __________)\n",
    "      (____)\n",
    "---.__(___)\n",
    "'''\n",
    "\n",
    "#Write your code below this line 👇\n",
    "import random\n",
    "\n",
    "game_list = [rock, paper, scissors]\n",
    "your_choice = int(input(\"What do you choose? Type 0 for Rock, 1 for Paper and 2 for Scissors\"))\n",
    "print(game_list[your_choice])\n",
    "\n",
    "print(\"computer chose\")\n",
    "comp_choice = random.randint(0,2)\n",
    "print(game_list[comp_choice])\n",
    "\n",
    "if your_choice > 2 or your_choice < 0:\n",
    "  print(\"Invalid choice\")\n",
    "elif your_choice == 0 and comp_choice == 2:\n",
    "  print(\"You win\")\n",
    "elif your_choice == 2 and comp_choice == 1:\n",
    "  print(\"You win\")\n",
    "elif your_choice == 1 and comp_choice == 0:\n",
    "  print(\"You win\")\n",
    "elif your_choice == comp_choice:\n",
    "  print(\"It's a draw\")\n",
    "else:\n",
    "  print(\"You lose\")"
   ]
  },
  {
   "cell_type": "code",
   "execution_count": null,
   "id": "6705fc4b",
   "metadata": {},
   "outputs": [],
   "source": []
  }
 ],
 "metadata": {
  "kernelspec": {
   "display_name": "Python 3 (ipykernel)",
   "language": "python",
   "name": "python3"
  },
  "language_info": {
   "codemirror_mode": {
    "name": "ipython",
    "version": 3
   },
   "file_extension": ".py",
   "mimetype": "text/x-python",
   "name": "python",
   "nbconvert_exporter": "python",
   "pygments_lexer": "ipython3",
   "version": "3.9.12"
  }
 },
 "nbformat": 4,
 "nbformat_minor": 5
}
