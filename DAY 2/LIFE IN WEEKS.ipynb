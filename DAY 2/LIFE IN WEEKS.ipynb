{
 "cells": [
  {
   "cell_type": "code",
   "execution_count": 2,
   "id": "38ed50e0",
   "metadata": {},
   "outputs": [
    {
     "name": "stdout",
     "output_type": "stream",
     "text": [
      "What is your current age?56\n",
      "You have 12410 days, 1768 weeks and 408 months left\n"
     ]
    }
   ],
   "source": [
    "# 🚨 Don't change the code below 👇\n",
    "age = input(\"What is your current age?\")\n",
    "# 🚨 Don't change the code above 👆\n",
    "\n",
    "#Write your code below this line 👇\n",
    "age = int(age)\n",
    "years_left = 90-age\n",
    "months_left = years_left * 12\n",
    "weeks_left = years_left * 52\n",
    "days_left = years_left * 365\n",
    "\n",
    "print(f\"You have {days_left} days, {weeks_left} weeks and {months_left} months left\")"
   ]
  },
  {
   "cell_type": "code",
   "execution_count": null,
   "id": "d6f607c6",
   "metadata": {},
   "outputs": [],
   "source": []
  }
 ],
 "metadata": {
  "kernelspec": {
   "display_name": "Python 3 (ipykernel)",
   "language": "python",
   "name": "python3"
  },
  "language_info": {
   "codemirror_mode": {
    "name": "ipython",
    "version": 3
   },
   "file_extension": ".py",
   "mimetype": "text/x-python",
   "name": "python",
   "nbconvert_exporter": "python",
   "pygments_lexer": "ipython3",
   "version": "3.9.12"
  }
 },
 "nbformat": 4,
 "nbformat_minor": 5
}
