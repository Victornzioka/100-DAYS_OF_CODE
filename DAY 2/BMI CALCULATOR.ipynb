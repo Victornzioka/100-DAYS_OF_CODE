{
 "cells": [
  {
   "cell_type": "code",
   "execution_count": 9,
   "id": "8956947d",
   "metadata": {},
   "outputs": [
    {
     "name": "stdout",
     "output_type": "stream",
     "text": [
      "enter your height in m: 1.76\n",
      "enter your weight in kg: 67\n",
      "21\n"
     ]
    }
   ],
   "source": [
    "# 🚨 Don't change the code below 👇\n",
    "height = input(\"enter your height in m: \")\n",
    "weight = input(\"enter your weight in kg: \")\n",
    "# 🚨 Don't change the code above 👆\n",
    "\n",
    "#Write your code below this line 👇\n",
    "height = float(height)\n",
    "weight = float(weight)\n",
    "\n",
    "bmi = weight/(height**2)\n",
    "\n",
    "print(int(bmi))"
   ]
  },
  {
   "cell_type": "code",
   "execution_count": null,
   "id": "c87266d5",
   "metadata": {},
   "outputs": [],
   "source": []
  }
 ],
 "metadata": {
  "kernelspec": {
   "display_name": "Python 3 (ipykernel)",
   "language": "python",
   "name": "python3"
  },
  "language_info": {
   "codemirror_mode": {
    "name": "ipython",
    "version": 3
   },
   "file_extension": ".py",
   "mimetype": "text/x-python",
   "name": "python",
   "nbconvert_exporter": "python",
   "pygments_lexer": "ipython3",
   "version": "3.9.12"
  }
 },
 "nbformat": 4,
 "nbformat_minor": 5
}
