{
 "cells": [
  {
   "cell_type": "code",
   "execution_count": 2,
   "id": "a818923c",
   "metadata": {},
   "outputs": [
    {
     "name": "stdout",
     "output_type": "stream",
     "text": [
      "Welcome to the tip calculator\n",
      "What was the total bill?124.56\n",
      "What percentage tip would you like to give? 10, 12 or 15?12\n",
      "Number of people to split the bill?7\n",
      "Each person should pay 19.93\n"
     ]
    }
   ],
   "source": [
    "print(\"Welcome to the tip calculator\")\n",
    "bill = float(input(\"What was the total bill?\"))\n",
    "tip = int(input(\"What percentage tip would you like to give? 10, 12 or 15?\"))\n",
    "no_people = int(input(\"Number of people to split the bill?\"))\n",
    "\n",
    "total_bill_percentage = (1 + tip/100)\n",
    "total_bill = total_bill_percentage * bill\n",
    "bill_per_person = round(total_bill / no_people, 2)\n",
    "\n",
    "print(f\"Each person should pay {bill_per_person}\")"
   ]
  },
  {
   "cell_type": "code",
   "execution_count": null,
   "id": "905f60c8",
   "metadata": {},
   "outputs": [],
   "source": []
  }
 ],
 "metadata": {
  "kernelspec": {
   "display_name": "Python 3 (ipykernel)",
   "language": "python",
   "name": "python3"
  },
  "language_info": {
   "codemirror_mode": {
    "name": "ipython",
    "version": 3
   },
   "file_extension": ".py",
   "mimetype": "text/x-python",
   "name": "python",
   "nbconvert_exporter": "python",
   "pygments_lexer": "ipython3",
   "version": "3.9.12"
  }
 },
 "nbformat": 4,
 "nbformat_minor": 5
}
