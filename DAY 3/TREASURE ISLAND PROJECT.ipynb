{
 "cells": [
  {
   "cell_type": "code",
   "execution_count": null,
   "id": "03d010aa",
   "metadata": {},
   "outputs": [],
   "source": [
    "print(\"Welcome to Treasure Island.\")\n",
    "print(\"Your mission is to find the treasure.\")\n",
    "\n",
    "choice_1 = input(\"You are at a crossroad, which direction do you go? 'left' or 'right'?\").lower()\n",
    "\n",
    "if choice_1 == \"left\":\n",
    "    choice_2 = input(\"You went the direction of the river. Type your choice, 'swim' or 'wait' to wait for a boat to go to an island nearby\").lower()\n",
    "    \n",
    "    if choice_2 == \"wait\":\n",
    "        choice_3 = input(\"Went through successfully. Which door of an house you fing in the island do you choose? 'red', 'blue' or 'yellow' ?\").lower()\n",
    "        \n",
    "        if choice_3 == \"yellow\":\n",
    "            print(\"You win\")\n",
    "        elif choice_3 == \"red\":\n",
    "            print(\"You went into a room full of fire. Game over\")\n",
    "        else:\n",
    "            print(\"You lost at a the last stage. May be you try your luck next time\")\n",
    "    else:\n",
    "        print(\"You were shallowed by a shark. Game Over\")\n",
    "else:\n",
    "    print(\"Oops, Game over, you went the wrong direction\")\n"
   ]
  },
  {
   "cell_type": "code",
   "execution_count": null,
   "id": "9138121b",
   "metadata": {},
   "outputs": [],
   "source": []
  }
 ],
 "metadata": {
  "kernelspec": {
   "display_name": "Python 3 (ipykernel)",
   "language": "python",
   "name": "python3"
  },
  "language_info": {
   "codemirror_mode": {
    "name": "ipython",
    "version": 3
   },
   "file_extension": ".py",
   "mimetype": "text/x-python",
   "name": "python",
   "nbconvert_exporter": "python",
   "pygments_lexer": "ipython3",
   "version": "3.9.12"
  }
 },
 "nbformat": 4,
 "nbformat_minor": 5
}
