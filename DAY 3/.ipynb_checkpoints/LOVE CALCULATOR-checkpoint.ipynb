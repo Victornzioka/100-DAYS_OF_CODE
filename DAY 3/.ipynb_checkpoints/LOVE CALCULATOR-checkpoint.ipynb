{
 "cells": [
  {
   "cell_type": "code",
   "execution_count": 3,
   "id": "2a34e014",
   "metadata": {},
   "outputs": [
    {
     "name": "stdout",
     "output_type": "stream",
     "text": [
      "Welcome to the Love Calculator!\n",
      "What is your name? \n",
      "JOHN\n",
      "What is their name? \n",
      "JOAN\n",
      "Your love score is 2. You go together like coke and mentos\n"
     ]
    }
   ],
   "source": [
    "# 🚨 Don't change the code below 👇\n",
    "print(\"Welcome to the Love Calculator!\")\n",
    "name1 = input(\"What is your name? \\n\")\n",
    "name2 = input(\"What is their name? \\n\")\n",
    "# 🚨 Don't change the code above 👆\n",
    "\n",
    "#Write your code below this line 👇\n",
    "name = name1 +\" \"+ name2\n",
    "name = name.lower()\n",
    "\n",
    "t_count = name.count(\"t\")\n",
    "r_count = name.count(\"r\")\n",
    "u_count = name.count(\"u\")\n",
    "e_count = name.count(\"e\")\n",
    "\n",
    "total_1 = t_count+r_count+u_count+e_count\n",
    "\n",
    "l_count = name.count(\"l\")\n",
    "o_count = name.count(\"o\")\n",
    "v_count = name.count(\"v\")\n",
    "e2_count = name.count(\"e\")\n",
    "\n",
    "total_2 = l_count+o_count+v_count+e2_count\n",
    "\n",
    "total = int(str(total_1) + str(total_2))\n",
    "\n",
    "if total <10 or total > 90:\n",
    "  print(f\"Your love score is {total}. You go together like coke and mentos\")\n",
    "elif total >= 40 and total <+ 50:\n",
    "  print(f\"Your love score is {total}. You are alright together\")\n",
    "else:\n",
    "  print(f\"Your love score is {total}.\")\n"
   ]
  },
  {
   "cell_type": "code",
   "execution_count": null,
   "id": "7a5fb32a",
   "metadata": {},
   "outputs": [],
   "source": []
  }
 ],
 "metadata": {
  "kernelspec": {
   "display_name": "Python 3 (ipykernel)",
   "language": "python",
   "name": "python3"
  },
  "language_info": {
   "codemirror_mode": {
    "name": "ipython",
    "version": 3
   },
   "file_extension": ".py",
   "mimetype": "text/x-python",
   "name": "python",
   "nbconvert_exporter": "python",
   "pygments_lexer": "ipython3",
   "version": "3.9.12"
  }
 },
 "nbformat": 4,
 "nbformat_minor": 5
}
