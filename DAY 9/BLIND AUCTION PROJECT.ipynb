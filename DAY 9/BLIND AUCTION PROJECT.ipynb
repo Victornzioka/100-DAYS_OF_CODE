{
 "cells": [
  {
   "cell_type": "code",
   "execution_count": null,
   "id": "d3f8427d",
   "metadata": {},
   "outputs": [],
   "source": [
    "end_bid = True\n",
    "bidders = {}\n",
    "\n",
    "def find_highest_bidder(bidding_record):\n",
    "  highest_bid = 0\n",
    "  winner = \"\"\n",
    "  \n",
    "  for bidder in bidding_record:\n",
    "    bid_amount = bidding_record[bidder]\n",
    "    if bid_amount > highest_bid: \n",
    "      highest_bid = bid_amount\n",
    "      winner = bidder\n",
    "  print(f\"The winner is {winner} with a bid of ${highest_bid}\")  \n",
    "\n",
    "while end_bid:\n",
    "  name = input(\"Whats your name? \").lower()\n",
    "  bid = int(input(\"Whats your bid? \"))\n",
    "  \n",
    "  bidders[name] = bid\n",
    "\n",
    "  other_bidders = input(\"Are there other bidders? \").lower()\n",
    "  if other_bidders == \"no\":\n",
    "    find_highest_bidder(bidders)\n",
    "    end_bid = False\n"
   ]
  }
 ],
 "metadata": {
  "kernelspec": {
   "display_name": "Python 3 (ipykernel)",
   "language": "python",
   "name": "python3"
  },
  "language_info": {
   "codemirror_mode": {
    "name": "ipython",
    "version": 3
   },
   "file_extension": ".py",
   "mimetype": "text/x-python",
   "name": "python",
   "nbconvert_exporter": "python",
   "pygments_lexer": "ipython3",
   "version": "3.9.12"
  }
 },
 "nbformat": 4,
 "nbformat_minor": 5
}
