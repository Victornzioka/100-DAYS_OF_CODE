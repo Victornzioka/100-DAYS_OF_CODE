{
 "cells": [
  {
   "cell_type": "code",
   "execution_count": null,
   "id": "9ba835f5",
   "metadata": {},
   "outputs": [],
   "source": [
    "student_scores = {\n",
    "  \"Harry\": 81,\n",
    "  \"Ron\": 78,\n",
    "  \"Hermione\": 99, \n",
    "  \"Draco\": 74,\n",
    "  \"Neville\": 62,\n",
    "}\n",
    "# 🚨 Don't change the code above 👆\n",
    "\n",
    "#TODO-1: Create an empty dictionary called student_grades.\n",
    "student_grades = {}\n",
    "\n",
    "#TODO-2: Write your code below to add the grades to student_grades.👇\n",
    "for key in student_scores:\n",
    "  if student_scores[key] > 90:\n",
    "    student_grades[key] = \"Outstanding\"\n",
    "  elif student_scores[key] > 80:\n",
    "    student_grades[key] = \"Exceeds expectation\"\n",
    "  elif student_scores[key] > 70:\n",
    "    student_grades[key] = \"Acceptable\"\n",
    "  elif student_scores[key] <= 70:\n",
    "    student_grades[key] = \"Fail\"\n",
    "    \n",
    "\n",
    "# 🚨 Don't change the code below 👇\n",
    "print(student_grades)\n"
   ]
  }
 ],
 "metadata": {
  "kernelspec": {
   "display_name": "Python 3 (ipykernel)",
   "language": "python",
   "name": "python3"
  },
  "language_info": {
   "codemirror_mode": {
    "name": "ipython",
    "version": 3
   },
   "file_extension": ".py",
   "mimetype": "text/x-python",
   "name": "python",
   "nbconvert_exporter": "python",
   "pygments_lexer": "ipython3",
   "version": "3.9.12"
  }
 },
 "nbformat": 4,
 "nbformat_minor": 5
}
